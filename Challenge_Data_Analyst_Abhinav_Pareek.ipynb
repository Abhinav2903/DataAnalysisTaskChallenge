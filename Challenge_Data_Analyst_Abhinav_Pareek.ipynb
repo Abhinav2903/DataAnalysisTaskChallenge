{
 "cells": [
  {
   "cell_type": "code",
   "execution_count": 1,
   "metadata": {},
   "outputs": [],
   "source": [
    "#import the required files\n",
    "import pandas as pd\n",
    "import os \n",
    "import openpyxl"
   ]
  },
  {
   "cell_type": "code",
   "execution_count": 2,
   "metadata": {},
   "outputs": [],
   "source": [
    "def process_file():\n",
    "    \n",
    "    #create coulmns according to the desired result\n",
    "    #only 5 created more to come#\n",
    "    directory = 'D:/My doc/ImportantDoc/Task/Challenge_and_Instructions_Workstudent_Data_Analyst/Challenge_and_Instructions_Workstudent_Data_Analyst/Results_Task_edited'\n",
    "    df= pd.DataFrame(columns=['Result', 'Drawing Index', 'Drawing Type', 'DP Number'])\n",
    "    for filename in os.listdir(directory):\n",
    "         print(\"filename\",filename)\n",
    "        "
   ]
  },
  {
   "cell_type": "code",
   "execution_count": 3,
   "metadata": {},
   "outputs": [
    {
     "name": "stdout",
     "output_type": "stream",
     "text": [
      "filename Res0001_AC_4_ETZ_001.pdf-Results\n",
      "filename Res0002_AC_0_RTZ_001.pdf-Results\n",
      "filename Res0003_AL_6_RTZ_001.pdf-Results\n",
      "filename Res0004_AB_4_GEZ_001.pdf-Results\n",
      "filename Res0005_AG_0_RTZ_001.pdf-Results\n",
      "filename Res0006_AC_4_ETZ_001.pdf-Results\n",
      "filename Res0007_AF_0_RTZ_001.pdf-Results\n",
      "filename Res0008_AB_0_RTZ_001.pdf-Results\n",
      "filename Res0009_AD_3_RTZ_001.pdf-Results\n",
      "filename Res0010_AC_0_RTZ_001.pdf-Results\n",
      "filename Res0011_AC_0_RTZ_001.pdf-Results\n",
      "filename Res0012_AD_0_RTZ_001.pdf-Results\n",
      "filename Res0013_AC_2_ETZ_001.pdf-Results\n",
      "filename Res0014_AF_0_RTZ_001.pdf-Results\n",
      "filename Res0015_AC_0_RTZ_001.pdf-Results\n",
      "filename Res0016_AH_0_RTZ_001.pdf-Results\n",
      "filename Res0017___b.pdf-Results\n",
      "filename Res0018_AE_5_RTZ_001.pdf-Results\n",
      "filename Res0019_AE_1_ETZ_001.pdf-Results\n",
      "filename Res0020_AC_0_RTZ_001.pdf-Results\n",
      "filename Res0021_RA69825186.pdf-Results\n",
      "filename Res0022_AG_4_ETZ_001.pdf-Results\n",
      "filename Res0023_AD_1_ETZ_001.pdf-Results\n",
      "filename Res0024_AC_23_ETZ_001.pdf-Results\n"
     ]
    }
   ],
   "source": [
    "def main():\n",
    "     process_file()\n",
    "    \n",
    "if __name__=='__main__':\n",
    "    main()"
   ]
  }
 ],
 "metadata": {
  "kernelspec": {
   "display_name": "Python 3",
   "language": "python",
   "name": "python3"
  },
  "language_info": {
   "codemirror_mode": {
    "name": "ipython",
    "version": 3
   },
   "file_extension": ".py",
   "mimetype": "text/x-python",
   "name": "python",
   "nbconvert_exporter": "python",
   "pygments_lexer": "ipython3",
   "version": "3.8.3"
  }
 },
 "nbformat": 4,
 "nbformat_minor": 4
}
